{
  "cells": [
    {
      "cell_type": "markdown",
      "metadata": {},
      "source": [
        "# 🧮 Calculadora Python\n",
        "\n",
        "Este é um projeto simples de calculadora feito em Python, criado para demonstrar o uso básico de funções, entrada de dados e condicionais.\n",
        "\n",
        "## 📌 Funcionalidades\n",
        "- Soma\n",
        "- Subtração\n",
        "- Multiplicação\n",
        "- Divisão"
      ]
    },
    {
      "cell_type": "code",
      "execution_count": null,
      "metadata": {},
      "outputs": [],
      "source": [
        "def soma(a, b):\n",
        "    return a + b\n",
        "\n",
        "def subtrai(a, b):\n",
        "    return a - b\n",
        "\n",
        "def multiplica(a, b):\n",
        "    return a * b\n",
        "\n",
        "def divide(a, b):\n",
        "    if b == 0:\n",
        "        return \"Erro: divisão por zero\"\n",
        "    return a / b"
      ]
    },
    {
      "cell_type": "markdown",
      "metadata": {},
      "source": [
        "### ▶️ Executando a calculadora"
      ]
    },
    {
      "cell_type": "code",
      "execution_count": null,
      "metadata": {},
      "outputs": [],
      "source": [
        "print(\"=== Calculadora Python ===\")\n",
        "print(\"1. Soma\")\n",
        "print(\"2. Subtração\")\n",
        "print(\"3. Multiplicação\")\n",
        "print(\"4. Divisão\")\n",
        "\n",
        "op = input(\"Escolha a operação (1/2/3/4): \")\n",
        "num1 = float(input(\"Digite o primeiro número: \"))\n",
        "num2 = float(input(\"Digite o segundo número: \"))\n",
        "\n",
        "if op == \"1\":\n",
        "    print(\"Resultado:\", soma(num1, num2))\n",
        "elif op == \"2\":\n",
        "    print(\"Resultado:\", subtrai(num1, num2))\n",
        "elif op == \"3\":\n",
        "    print(\"Resultado:\", multiplica(num1, num2))\n",
        "elif op == \"4\":\n",
        "    print(\"Resultado:\", divide(num1, num2))\n",
        "else:\n",
        "    print(\"Opção inválida!\")"
      ]
    }
  ],
  "metadata": {
    "kernelspec": {
      "display_name": "Python 3",
      "language": "python",
      "name": "python3"
    },
    "language_info": {
      "name": "python",
      "version": "3.x"
    }
  },
  "nbformat": 4,
  "nbformat_minor": 5
}